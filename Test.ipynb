{
 "cells": [
  {
   "cell_type": "code",
   "execution_count": 1,
   "metadata": {},
   "outputs": [
    {
     "data": {
      "text/html": [
       "\n",
       "    <style>\n",
       "    .rendered_html table, .rendered_html th, .rendered_html tr, .rendered_html td {\n",
       "      border: 1px  black solid !important;\n",
       "      color: black !important;\n",
       "    }\n",
       "    </style>\n",
       "    <table border=\"1\"><tr><td><pre> </pre></td><td><pre> </pre></td><td><pre> </pre></td><td><pre> </pre></td></tr><tr><td><pre> </pre></td><td><pre> </pre></td><td><pre> </pre></td><td><pre> </pre></td></tr><tr><td><pre> </pre></td><td><pre> </pre></td><td><pre> </pre></td><td><pre> </pre></td></tr><tr><td><pre> </pre></td><td><pre> </pre></td><td><pre> </pre></td><td><pre> </pre></td></tr></table>"
      ],
      "text/plain": [
       "<IPython.core.display.HTML object>"
      ]
     },
     "metadata": {},
     "output_type": "display_data"
    }
   ],
   "source": [
    "from TicTacToeBoard import Board\n",
    "from Utils import board_display\n",
    "from HumanPlayer import HumanPlayer\n",
    "\n",
    "\n",
    "board = Board(4)\n",
    "board_display(board)\n"
   ]
  },
  {
   "cell_type": "code",
   "execution_count": null,
   "metadata": {
    "scrolled": false
   },
   "outputs": [
    {
     "name": "stdout",
     "output_type": "stream",
     "text": [
      "Enter co-ordinates for 'O' : 0 0\n"
     ]
    },
    {
     "data": {
      "text/html": [
       "\n",
       "    <style>\n",
       "    .rendered_html table, .rendered_html th, .rendered_html tr, .rendered_html td {\n",
       "      border: 1px  black solid !important;\n",
       "      color: black !important;\n",
       "    }\n",
       "    </style>\n",
       "    <table border=\"1\"><tr><td>O</td><td><pre> </pre></td><td><pre> </pre></td><td><pre> </pre></td></tr><tr><td><pre> </pre></td><td><pre> </pre></td><td><pre> </pre></td><td><pre> </pre></td></tr><tr><td><pre> </pre></td><td><pre> </pre></td><td><pre> </pre></td><td><pre> </pre></td></tr><tr><td><pre> </pre></td><td><pre> </pre></td><td><pre> </pre></td><td><pre> </pre></td></tr></table>"
      ],
      "text/plain": [
       "<IPython.core.display.HTML object>"
      ]
     },
     "metadata": {},
     "output_type": "display_data"
    },
    {
     "name": "stdout",
     "output_type": "stream",
     "text": [
      "Enter co-ordinates for 'X' : 0 1\n"
     ]
    },
    {
     "data": {
      "text/html": [
       "\n",
       "    <style>\n",
       "    .rendered_html table, .rendered_html th, .rendered_html tr, .rendered_html td {\n",
       "      border: 1px  black solid !important;\n",
       "      color: black !important;\n",
       "    }\n",
       "    </style>\n",
       "    <table border=\"1\"><tr><td>O</td><td><pre> </pre></td><td><pre> </pre></td><td><pre> </pre></td></tr><tr><td>X</td><td><pre> </pre></td><td><pre> </pre></td><td><pre> </pre></td></tr><tr><td><pre> </pre></td><td><pre> </pre></td><td><pre> </pre></td><td><pre> </pre></td></tr><tr><td><pre> </pre></td><td><pre> </pre></td><td><pre> </pre></td><td><pre> </pre></td></tr></table>"
      ],
      "text/plain": [
       "<IPython.core.display.HTML object>"
      ]
     },
     "metadata": {},
     "output_type": "display_data"
    }
   ],
   "source": [
    "board.play(HumanPlayer(\"ABC\"), HumanPlayer(\"PQR\"))"
   ]
  },
  {
   "cell_type": "code",
   "execution_count": null,
   "metadata": {},
   "outputs": [],
   "source": []
  }
 ],
 "metadata": {
  "kernelspec": {
   "display_name": "Python 3",
   "language": "python",
   "name": "python3"
  },
  "language_info": {
   "codemirror_mode": {
    "name": "ipython",
    "version": 3
   },
   "file_extension": ".py",
   "mimetype": "text/x-python",
   "name": "python",
   "nbconvert_exporter": "python",
   "pygments_lexer": "ipython3",
   "version": "3.7.3"
  }
 },
 "nbformat": 4,
 "nbformat_minor": 2
}
